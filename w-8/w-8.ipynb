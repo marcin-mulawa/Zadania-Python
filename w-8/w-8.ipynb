{
 "cells": [
  {
   "cell_type": "code",
   "execution_count": 1,
   "metadata": {},
   "outputs": [],
   "source": [
    "import csv\n",
    "import numpy as np\n",
    "lines=[]"
   ]
  },
  {
   "cell_type": "code",
   "execution_count": 2,
   "metadata": {},
   "outputs": [],
   "source": [
    "with open('company_data.csv') as csvfile:\n",
    "    reader = csv.reader(csvfile,delimiter=';')\n",
    "    for row in reader:\n",
    "        lines.append(row)"
   ]
  },
  {
   "cell_type": "code",
   "execution_count": 3,
   "metadata": {},
   "outputs": [
    {
     "data": {
      "text/plain": [
       "[['Id', 'First Name', 'Last Name', 'Salary', 'Gender', 'Birth'],\n",
       " ['1', 'Kowalski', 'Jan', '4000', 'M', '1987'],\n",
       " ['2', 'Nowak', 'Marta', '5000', 'F', '1986'],\n",
       " ['3', 'Marciniak', 'Anna', '6000', 'F', '1983'],\n",
       " ['4', 'Butko', 'Marcin', '4200', 'M', '1977'],\n",
       " ['5', 'Sarbak', 'Piotr', '5200', 'M', '1975'],\n",
       " ['6', 'Waliszewski', 'Adam', '4400', 'M', '1990'],\n",
       " ['7', 'Wojtal', 'Aleksander', '3800', 'M', '1989'],\n",
       " ['8', 'Nowocki', 'Bogusz', '4100', 'M', '1991'],\n",
       " ['9', 'Stefaniak', 'Artur', '4900', 'M', '1995'],\n",
       " ['10', 'Urbaniak', 'Tomasz', '5100', 'M', '1975'],\n",
       " ['11', 'Dziurla', 'Agata', '3800', 'F', '1973'],\n",
       " ['12', 'Rodziszewska', 'Anna', '3900', 'F', '1995'],\n",
       " ['13', 'Stempiniak', 'Monika', '4600', 'F', '1971'],\n",
       " ['14', 'Horny', 'Adam', '4700', 'M', '1985'],\n",
       " ['15', 'Dziarska', 'Aniela', '4500', 'F', '1995'],\n",
       " ['16', 'Antoniewicz', 'Marian', '4400', 'M', '1976'],\n",
       " ['17', 'Melerowicz', 'Weronika', '4900', 'F', '1973'],\n",
       " ['18', 'Jacewicz', 'Maciej', '5000', 'M', '1972'],\n",
       " ['19', 'Izydorczyk', 'Andrzej', '4400', 'M', '1976'],\n",
       " ['20', 'Majewska', 'Iwona', '4500', 'F', '1982']]"
      ]
     },
     "execution_count": 3,
     "metadata": {},
     "output_type": "execute_result"
    }
   ],
   "source": [
    "lines"
   ]
  },
  {
   "cell_type": "markdown",
   "metadata": {},
   "source": [
    "# Zad 1\n",
    "###### Korzystając z dokumentacji modułu csv (https://docs.python.org/3/library/csv.html) napisz skrypt, za pomocą którego wczytasz dane z pliku company_data.csv."
   ]
  },
  {
   "cell_type": "code",
   "execution_count": 4,
   "metadata": {},
   "outputs": [
    {
     "data": {
      "text/plain": [
       "20"
      ]
     },
     "execution_count": 4,
     "metadata": {},
     "output_type": "execute_result"
    }
   ],
   "source": [
    "len(lines)-1"
   ]
  },
  {
   "cell_type": "markdown",
   "metadata": {},
   "source": [
    "# Zad 2\n",
    "###### Na wskazanym pliku wykonaj podstawowe analizy - odpowiedz:\n",
    "a) ile w firmie pracuje osób,<br>\n",
    "b) jaki jest stosunek liczby zatrudnionych kobiet do mężczyzn<br>\n",
    "c) Kto w fimie zarabia najmniej a kto najwięcej?<br>\n",
    "d) Jakie jest średnie wynagrodzenie w firmie?<br>\n",
    "e) Jakie jest odchylenie standardowe wynagrodzenia w firmie?"
   ]
  },
  {
   "cell_type": "code",
   "execution_count": 5,
   "metadata": {},
   "outputs": [],
   "source": [
    "men=0\n",
    "women=0\n",
    "max_salary=int(lines[1][3])\n",
    "max_index=1\n",
    "min_salary=int(lines[1][3])\n",
    "min_index=1\n",
    "avg=0\n",
    "for i,line in enumerate(lines[1:]):\n",
    "    if int(line[3])>max_salary:\n",
    "        max_salary = int(line[3])\n",
    "        max_index = i+1\n",
    "    if int(line[3])<min_salary:\n",
    "        min_salary = int(line[3])\n",
    "        min_index = i+1\n",
    "    if line[4]=='F':\n",
    "        women+=1\n",
    "    else:\n",
    "        men+=1\n",
    "    avg+=int(line[3])\n",
    "avg/=len(lines)-1"
   ]
  },
  {
   "cell_type": "code",
   "execution_count": 6,
   "metadata": {},
   "outputs": [
    {
     "data": {
      "text/plain": [
       "12"
      ]
     },
     "execution_count": 6,
     "metadata": {},
     "output_type": "execute_result"
    }
   ],
   "source": [
    "men"
   ]
  },
  {
   "cell_type": "code",
   "execution_count": 7,
   "metadata": {
    "scrolled": true
   },
   "outputs": [
    {
     "data": {
      "text/plain": [
       "8"
      ]
     },
     "execution_count": 7,
     "metadata": {},
     "output_type": "execute_result"
    }
   ],
   "source": [
    "women"
   ]
  },
  {
   "cell_type": "code",
   "execution_count": 8,
   "metadata": {},
   "outputs": [
    {
     "data": {
      "text/plain": [
       "['3', 'Marciniak', 'Anna', '6000', 'F', '1983']"
      ]
     },
     "execution_count": 8,
     "metadata": {},
     "output_type": "execute_result"
    }
   ],
   "source": [
    "lines[max_index]"
   ]
  },
  {
   "cell_type": "code",
   "execution_count": 9,
   "metadata": {},
   "outputs": [
    {
     "data": {
      "text/plain": [
       "['7', 'Wojtal', 'Aleksander', '3800', 'M', '1989']"
      ]
     },
     "execution_count": 9,
     "metadata": {},
     "output_type": "execute_result"
    }
   ],
   "source": [
    "lines[min_index]"
   ]
  },
  {
   "cell_type": "code",
   "execution_count": 10,
   "metadata": {},
   "outputs": [
    {
     "data": {
      "text/plain": [
       "4570.0"
      ]
     },
     "execution_count": 10,
     "metadata": {},
     "output_type": "execute_result"
    }
   ],
   "source": [
    "avg"
   ]
  },
  {
   "cell_type": "code",
   "execution_count": 11,
   "metadata": {},
   "outputs": [],
   "source": [
    "salaries=[]\n",
    "for line in lines[1:]:\n",
    "    salaries.append(int(line[3]))"
   ]
  },
  {
   "cell_type": "code",
   "execution_count": 12,
   "metadata": {},
   "outputs": [
    {
     "data": {
      "text/plain": [
       "535.8171329847526"
      ]
     },
     "execution_count": 12,
     "metadata": {},
     "output_type": "execute_result"
    }
   ],
   "source": [
    "np.std(salaries)"
   ]
  },
  {
   "cell_type": "markdown",
   "metadata": {},
   "source": [
    "# Zad 3\n",
    "###### Wygeneruj samodzielnie listę 10-ciu pracowników, którym przypiszesz nr ID, Imię, Nazwisko, płeć oraz wynagrodzenie. Następnie korzystając z dokumentacji modułu csv (https://docs.python.org/3/library/csv.html) zapisz swoją listę do pliku csv."
   ]
  },
  {
   "cell_type": "code",
   "execution_count": 13,
   "metadata": {},
   "outputs": [],
   "source": [
    "import random\n",
    "workers =[]\n",
    "imiona = ['Jan','Kuba','Przemek','Konrad','Michał','Kasia','Iwona','Laura','Wiktoria','Tomek']\n",
    "nazwiska = ['Kowalski','Pies','Szybki','Wolny','Małysz','Nowak','Prosta','Płaska','Las','Ogórek']\n",
    "plec =['M','M','M','M','M','F','F','F','F','M']\n",
    "zarobki = [random.randrange(2000,10000,100) for i in range(10)]\n",
    "workers.append(['ID','Imię','Nazwisko','płeć','wynagrodzenie'])\n",
    "for i in range(10):\n",
    "    workers.append([i+1,imiona[i],nazwiska[i],plec[i],zarobki[i]])"
   ]
  },
  {
   "cell_type": "code",
   "execution_count": 14,
   "metadata": {},
   "outputs": [],
   "source": [
    "with open('workers.csv', 'w', newline='',encoding='utf-8') as f:\n",
    "    writer = csv.writer(f,delimiter=';')\n",
    "    writer.writerows(workers)"
   ]
  }
 ],
 "metadata": {
  "kernelspec": {
   "display_name": "Python 3",
   "language": "python",
   "name": "python3"
  },
  "language_info": {
   "codemirror_mode": {
    "name": "ipython",
    "version": 3
   },
   "file_extension": ".py",
   "mimetype": "text/x-python",
   "name": "python",
   "nbconvert_exporter": "python",
   "pygments_lexer": "ipython3",
   "version": "3.7.5"
  }
 },
 "nbformat": 4,
 "nbformat_minor": 2
}
