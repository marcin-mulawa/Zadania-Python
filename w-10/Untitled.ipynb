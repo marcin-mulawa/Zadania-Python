{
 "cells": [
  {
   "attachments": {},
   "cell_type": "markdown",
   "metadata": {},
   "source": [
    "# Zad1\n",
    "###### Utwórz klasę Vector2D. Wykorzystaj całą wiedzę jaką posiadasz na temat wektorów na płaszczyźnie. Zdefiniuj wszystkie znane Ci operacje.\n"
   ]
  },
  {
   "cell_type": "code",
   "execution_count": 1,
   "metadata": {},
   "outputs": [],
   "source": [
    "import numpy as np\n",
    "\n",
    "class vector2d():\n",
    "    \n",
    "    def __init__(self,x,y):\n",
    "        self.x = x\n",
    "        self.y = y\n",
    "    \n",
    "    def __str__(self):\n",
    "        return \"x = {}, y = {}\".format(self.x, self.y)\n",
    "    \n",
    "    def modul(self):\n",
    "        length = ((self.x)**2+(self.y)**2)**0.5\n",
    "        return length\n",
    "    \n",
    "    def zwieksz(self,x,y):\n",
    "        self.x = self.x + x\n",
    "        self.y = self.y + y\n",
    "    \n",
    "    def zmniejsz(self,x,y):\n",
    "        self.x = self.x - x\n",
    "        self.y = self.y - y\n",
    "        \n",
    "    def translacja(self):\n",
    "        self.x, self.y = self.y, self.x\n",
    "    \n",
    "    def iloczyn_przez_liczbe(self,a):\n",
    "        self.x = self.x*a\n",
    "        self.y = self.y*a\n",
    "        #return self.x, self.y\n",
    "        print(self)\n",
    "    \n",
    "    def iloczyn_skalarny(self,x,y):\n",
    "        return self.x * x + self.y * y\n",
    "    \n",
    "    def przeciwny(self):\n",
    "        self.x = self.x*(-1)\n",
    "        self.y = self.y*(-1)\n",
    "        print(self)\n",
    "        \n",
    "    def obroc(self,kat):\n",
    "        kat = kat*(np.pi/180)\n",
    "        macierz_obrotu = np.array([[np.cos(kat), -np.sin(kat)],[np.sin(kat), np.cos(kat)]])\n",
    "        a = np.array([self.x, self.y])\n",
    "        self.x,self.y = macierz_obrotu.dot(a)\n",
    "        print(self)\n",
    "        "
   ]
  },
  {
   "cell_type": "code",
   "execution_count": 2,
   "metadata": {},
   "outputs": [],
   "source": [
    "vec1=vector2d(15,6)"
   ]
  },
  {
   "cell_type": "code",
   "execution_count": 3,
   "metadata": {},
   "outputs": [
    {
     "data": {
      "text/plain": [
       "16.15549442140351"
      ]
     },
     "execution_count": 3,
     "metadata": {},
     "output_type": "execute_result"
    }
   ],
   "source": [
    "vec1.modul()"
   ]
  },
  {
   "cell_type": "code",
   "execution_count": 4,
   "metadata": {},
   "outputs": [
    {
     "name": "stdout",
     "output_type": "stream",
     "text": [
      "x = 9.99038105676658, y = 12.696152422706632\n"
     ]
    }
   ],
   "source": [
    "vec1.obroc(30)"
   ]
  },
  {
   "cell_type": "code",
   "execution_count": 5,
   "metadata": {},
   "outputs": [
    {
     "data": {
      "text/plain": [
       "16.15549442140351"
      ]
     },
     "execution_count": 5,
     "metadata": {},
     "output_type": "execute_result"
    }
   ],
   "source": [
    "vec1.modul()"
   ]
  },
  {
   "cell_type": "code",
   "execution_count": 6,
   "metadata": {},
   "outputs": [
    {
     "name": "stdout",
     "output_type": "stream",
     "text": [
      "x = 9.99038105676658, y = 12.696152422706632\n"
     ]
    }
   ],
   "source": [
    "print(vec1)"
   ]
  },
  {
   "cell_type": "markdown",
   "metadata": {},
   "source": [
    "# Zad 2\n",
    "###### Utwórz klasę Vector3D. Wykorzystaj całą wiedzę jaką posiadasz na temat wektorów w przestrzeni. Zdefiniuj wszystkie znane Ci operacje.\n"
   ]
  },
  {
   "cell_type": "code",
   "execution_count": 7,
   "metadata": {},
   "outputs": [],
   "source": [
    "class vector3d():\n",
    "    \n",
    "    def __init__(self,x,y,z):\n",
    "        self.x = x\n",
    "        self.y = y\n",
    "        self.z = z\n",
    "    \n",
    "    def __str__(self):\n",
    "        return \"x = {}, y = {}, z = {}\".format(self.x, self.y, self.z)\n",
    "    \n",
    "    def modul(self):\n",
    "        return (self.x**2 + self.y**2 + self.z**2)**0.5\n",
    "    \n",
    "    def iloczyn_przez_liczbe(self,number):\n",
    "        self.x *= number\n",
    "        self.y *= number\n",
    "        self.z *= number\n",
    "        print(self)\n",
    "        \n",
    "    def iloczyn_skalarny(self,x,y,z):\n",
    "        return self.x * x + self.y * y + self.z * z\n",
    "    \n",
    "    def zwieksz(self,x,y,z):\n",
    "        self.x += x\n",
    "        self.y += y\n",
    "        self.z += z\n",
    "    \n",
    "    def zmniejsz(self,x,y):\n",
    "        self.x -= x\n",
    "        self.y -= y\n",
    "        self.z -= z\n",
    "    \n",
    "    def przeciwny(self):\n",
    "        self.x *=-1\n",
    "        self.y*=-1\n",
    "        self.z*=-1\n",
    "        print(self)\n",
    "\n",
    "    def iloczyn_wektorowy(self,x,y,z):\n",
    "        self.x = self.y * z - self.z * y\n",
    "        self.y = self.z * x - self.x * z\n",
    "        self.z = self.x * y - self.y * x\n",
    "        print(self)"
   ]
  },
  {
   "cell_type": "code",
   "execution_count": 8,
   "metadata": {},
   "outputs": [],
   "source": [
    "vec3d = vector3d(3,5,6)"
   ]
  },
  {
   "cell_type": "code",
   "execution_count": 9,
   "metadata": {},
   "outputs": [
    {
     "name": "stdout",
     "output_type": "stream",
     "text": [
      "x = 3, y = 5, z = 6\n"
     ]
    }
   ],
   "source": [
    "print(vec3d)"
   ]
  },
  {
   "cell_type": "markdown",
   "metadata": {},
   "source": [
    "# Zad 3\n",
    "###### Utwórz klasę Martix. Wykorzystaj całą wiedzę jaką posiadasz na temat macierzy. Zdefiniuj wszystkie znane Ci operacje.\n"
   ]
  },
  {
   "cell_type": "code",
   "execution_count": 83,
   "metadata": {},
   "outputs": [],
   "source": [
    "class Matrix():\n",
    "    \n",
    "    def __init__(self,m,n):\n",
    "        self.m = m\n",
    "        self.n = n\n",
    "        self.body = []\n",
    "        \n",
    "    def __str__(self):\n",
    "        return \"{}\".format(self.body)\n",
    "        \n",
    "    def fill(self):\n",
    "        for i in range(self.m):\n",
    "            init_list = []\n",
    "            for j in range(self.n):\n",
    "                element = float(input('podaj liczbę: '))\n",
    "                init_list.append(element)\n",
    "            self.body.append(init_list)\n",
    "    \n",
    "    def zeros(self):\n",
    "        for i in range(self.m):\n",
    "            init_list = []\n",
    "            for j in range(self.n):\n",
    "                init_list.append(0)\n",
    "            self.body.append(init_list)\n",
    "    \n",
    "    def ones(self):\n",
    "        for i in range(self.m):\n",
    "            init_list = []\n",
    "            for j in range(self.n):\n",
    "                init_list.append(1)\n",
    "            self.body.append(init_list)"
   ]
  },
  {
   "cell_type": "code",
   "execution_count": 84,
   "metadata": {},
   "outputs": [],
   "source": [
    "m=Matrix(m=2,n=3)"
   ]
  },
  {
   "cell_type": "code",
   "execution_count": 85,
   "metadata": {},
   "outputs": [
    {
     "name": "stdout",
     "output_type": "stream",
     "text": [
      "podaj liczbę: 2\n",
      "podaj liczbę: 3\n",
      "podaj liczbę: 3\n",
      "podaj liczbę: 4\n",
      "podaj liczbę: 5\n",
      "podaj liczbę: 2\n"
     ]
    }
   ],
   "source": [
    "m.fill()"
   ]
  },
  {
   "cell_type": "code",
   "execution_count": 86,
   "metadata": {},
   "outputs": [
    {
     "name": "stdout",
     "output_type": "stream",
     "text": [
      "[[2.0, 3.0, 3.0], [4.0, 5.0, 2.0]]\n"
     ]
    }
   ],
   "source": [
    "print(m)"
   ]
  },
  {
   "cell_type": "code",
   "execution_count": 87,
   "metadata": {},
   "outputs": [],
   "source": [
    "m.ones()"
   ]
  },
  {
   "cell_type": "code",
   "execution_count": 88,
   "metadata": {},
   "outputs": [
    {
     "name": "stdout",
     "output_type": "stream",
     "text": [
      "[[2.0, 3.0, 3.0], [4.0, 5.0, 2.0], [1, 1, 1], [1, 1, 1]]\n"
     ]
    }
   ],
   "source": [
    "print(m)"
   ]
  },
  {
   "cell_type": "code",
   "execution_count": 17,
   "metadata": {},
   "outputs": [
    {
     "data": {
      "text/plain": [
       "array([[2, 1],\n",
       "       [3, 5],\n",
       "       [4, 4],\n",
       "       [5, 3]])"
      ]
     },
     "execution_count": 17,
     "metadata": {},
     "output_type": "execute_result"
    }
   ],
   "source": [
    "x.T"
   ]
  },
  {
   "cell_type": "code",
   "execution_count": null,
   "metadata": {},
   "outputs": [],
   "source": []
  }
 ],
 "metadata": {
  "kernelspec": {
   "display_name": "Python 3",
   "language": "python",
   "name": "python3"
  },
  "language_info": {
   "codemirror_mode": {
    "name": "ipython",
    "version": 3
   },
   "file_extension": ".py",
   "mimetype": "text/x-python",
   "name": "python",
   "nbconvert_exporter": "python",
   "pygments_lexer": "ipython3",
   "version": "3.7.5"
  }
 },
 "nbformat": 4,
 "nbformat_minor": 2
}
